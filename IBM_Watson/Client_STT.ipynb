{
  "nbformat": 4,
  "nbformat_minor": 0,
  "metadata": {
    "colab": {
      "name": "Client_STT.ipynb",
      "provenance": [],
      "collapsed_sections": []
    },
    "kernelspec": {
      "name": "python3",
      "display_name": "Python 3"
    }
  },
  "cells": [
    {
      "cell_type": "code",
      "metadata": {
        "id": "yBaUAHL3mI-o"
      },
      "source": [
        "ws_url= 'wss://api.us-south.speech-to-text.watson.cloud.ibm.com/instances/so4OG0zBh-S0pbvPQtt3TuS1mysBGAdx57rBKMTZLYXl/v1/recognize'"
      ],
      "execution_count": null,
      "outputs": []
    },
    {
      "cell_type": "code",
      "metadata": {
        "colab": {
          "base_uri": "https://localhost:8080/"
        },
        "id": "IBqOh5j0mW9W",
        "outputId": "a644f502-7ec7-48d7-aaa7-465750c4da66"
      },
      "source": [
        "#import ibm watson and os\r\n",
        "import os\r\n",
        "!pip install ibm_watson\r\n",
        "#import other ibm dependancies\r\n",
        "import json\r\n",
        "from os.path import join,dirname\r\n",
        "from ibm_watson import SpeechToTextV1\r\n",
        "from ibm_watson.websocket import RecognizeCallback, AudioSource \r\n",
        "from ibm_cloud_sdk_core.authenticators import IAMAuthenticator\r\n",
        "from ibm_watson import ApiException"
      ],
      "execution_count": null,
      "outputs": [
        {
          "output_type": "stream",
          "text": [
            "Requirement already satisfied: ibm_watson in /usr/local/lib/python3.6/dist-packages (5.1.0)\n",
            "Requirement already satisfied: requests<3.0,>=2.0 in /usr/local/lib/python3.6/dist-packages (from ibm_watson) (2.23.0)\n",
            "Requirement already satisfied: websocket-client==0.48.0 in /usr/local/lib/python3.6/dist-packages (from ibm_watson) (0.48.0)\n",
            "Requirement already satisfied: ibm-cloud-sdk-core>=3.3.6 in /usr/local/lib/python3.6/dist-packages (from ibm_watson) (3.3.6)\n",
            "Requirement already satisfied: python-dateutil>=2.5.3 in /usr/local/lib/python3.6/dist-packages (from ibm_watson) (2.8.1)\n",
            "Requirement already satisfied: urllib3!=1.25.0,!=1.25.1,<1.26,>=1.21.1 in /usr/local/lib/python3.6/dist-packages (from requests<3.0,>=2.0->ibm_watson) (1.24.3)\n",
            "Requirement already satisfied: chardet<4,>=3.0.2 in /usr/local/lib/python3.6/dist-packages (from requests<3.0,>=2.0->ibm_watson) (3.0.4)\n",
            "Requirement already satisfied: idna<3,>=2.5 in /usr/local/lib/python3.6/dist-packages (from requests<3.0,>=2.0->ibm_watson) (2.10)\n",
            "Requirement already satisfied: certifi>=2017.4.17 in /usr/local/lib/python3.6/dist-packages (from requests<3.0,>=2.0->ibm_watson) (2020.12.5)\n",
            "Requirement already satisfied: six in /usr/local/lib/python3.6/dist-packages (from websocket-client==0.48.0->ibm_watson) (1.15.0)\n",
            "Requirement already satisfied: PyJWT<3.0.0,>=2.0.0a1 in /usr/local/lib/python3.6/dist-packages (from ibm-cloud-sdk-core>=3.3.6->ibm_watson) (2.0.0)\n"
          ],
          "name": "stdout"
        }
      ]
    },
    {
      "cell_type": "code",
      "metadata": {
        "colab": {
          "base_uri": "https://localhost:8080/"
        },
        "id": "tWZOoC9jnSRm",
        "outputId": "df677bd7-8395-4645-a7e6-4a9b5c6ae7a9"
      },
      "source": [
        "apikey=''\r\n",
        "authenticator = IAMAuthenticator(apikey)\r\n",
        "print(authenticator)"
      ],
      "execution_count": null,
      "outputs": [
        {
          "output_type": "stream",
          "text": [
            "<ibm_cloud_sdk_core.authenticators.iam_authenticator.IAMAuthenticator object at 0x7f650f303cf8>\n"
          ],
          "name": "stdout"
        }
      ]
    },
    {
      "cell_type": "code",
      "metadata": {
        "colab": {
          "base_uri": "https://localhost:8080/"
        },
        "id": "GUFPp9I3nX_b",
        "outputId": "28ec9483-ebea-47c6-8090-bf17979e9f57"
      },
      "source": [
        "!curl -k -X POST \\\r\n",
        "  --header \"Content-Type: application/x-www-form-urlencoded\" \\\r\n",
        "  --header \"Accept: application/json\" \\\r\n",
        "  --data-urlencode \"grant_type=urn:ibm:params:oauth:grant-type:apikey\" \\\r\n",
        "  --data-urlencode \"apikey=\" \\\r\n",
        "  \"https://iam.cloud.ibm.com/identity/token\""
      ],
      "execution_count": null,
      "outputs": [
        {
          "output_type": "stream",
          "text": [
            "{\"access_token\":\"eyJraWQiOiIyMDIwMTIyMTE4MzQiLCJhbGciOiJSUzI1NiJ9.eyJpYW1faWQiOiJpYW0tU2VydmljZUlkLTViY2I3MjBhLTFlY2ItNGQ1Ny1hYzliLTNlZDdmZWI2NzEyYiIsImlkIjoiaWFtLVNlcnZpY2VJZC01YmNiNzIwYS0xZWNiLTRkNTctYWM5Yi0zZWQ3ZmViNjcxMmIiLCJyZWFsbWlkIjoiaWFtIiwianRpIjoiYjVhYmYyYzAtNDE0Mi00NjQyLWE1NTYtNWYyYzMwYTUxNDUzIiwiaWRlbnRpZmllciI6IlNlcnZpY2VJZC01YmNiNzIwYS0xZWNiLTRkNTctYWM5Yi0zZWQ3ZmViNjcxMmIiLCJuYW1lIjoiQXV0by1nZW5lcmF0ZWQgc2VydmljZSBjcmVkZW50aWFscyIsInN1YiI6IlNlcnZpY2VJZC01YmNiNzIwYS0xZWNiLTRkNTctYWM5Yi0zZWQ3ZmViNjcxMmIiLCJzdWJfdHlwZSI6IlNlcnZpY2VJZCIsInVuaXF1ZV9pbnN0YW5jZV9jcm5zIjpbImNybjp2MTpibHVlbWl4OnB1YmxpYzpzcGVlY2gtdG8tdGV4dDp1cy1zb3V0aDphL2RhY2Q5ODk3NTU3MjQ3ZDVhYzgxZjdjZTViZTZkODZhOjNhNjc3YjJiLWMwMmQtNDRkMS1hNWJjLWQwZmZiYjVmYzBjYTo6Il0sImFjY291bnQiOnsidmFsaWQiOnRydWUsImJzcyI6ImRhY2Q5ODk3NTU3MjQ3ZDVhYzgxZjdjZTViZTZkODZhIiwiZnJvemVuIjp0cnVlfSwiaWF0IjoxNjEwNzgwMDM1LCJleHAiOjE2MTA3ODM2MzUsImlzcyI6Imh0dHBzOi8vaWFtLmNsb3VkLmlibS5jb20vaWRlbnRpdHkiLCJncmFudF90eXBlIjoidXJuOmlibTpwYXJhbXM6b2F1dGg6Z3JhbnQtdHlwZTphcGlrZXkiLCJzY29wZSI6ImlibSBvcGVuaWQiLCJjbGllbnRfaWQiOiJkZWZhdWx0IiwiYWNyIjoxLCJhbXIiOlsicHdkIl19.Hd9_YJPM_Z34xfCrqGV4Q3PhGsC0xyT-hvzWrgTvlJsQ2tSzqtxt0J851qIbrNU0WvMY5Leld0bc6IothShPyKR1IIDVq3Sv3woCQuOjDJPLP9jOW_2ENzV7_mxz4itf6pUVF54pO6arKCftP4VwVZvATndS5Ea1KO0vujYezmkz1enFwbWdvAkp2dEJj48F9uC9bGvgqWszB03_WFIbMT0RFtSKlMr4V5fbeex06nWGk0iRr3BMPxjcmfH14EfptcNyLEdYc-_hBBxiruxdpBWDJKeDtabrkgBXRYmI7yaTgJng2kFpBB--mp1SZtR1dJqEHrCeqkLlJaYNdxDWCA\",\"refresh_token\":\"OKAE8J-fKgyN0LFOvKHSihkyGNSmFcf3xnf76_QXp5FgQhdx7GZMgcWzgr_haFir6D9ZbCE-ZIkJp1FNAHve2AaA5vJJ3tW045ht0t_eYsc62NQS-Bn7u1E_OP7kW9cxqRQdkeRcLfbiq_mFFLOWiZdRef_TB6d7SMGV4v62kjGWF8y-nRhEnR9TXrRw2AuY4CQAINTuT35HMX0RFBg7T7XwFIjZFa6p0Euot8z7aZO8ZTRYxV8kpcogYLx2MalBC5bFfqudQ6Xt34eeCXdrL0wFHgJUxM2hOU5rMLlSPlVjQoGQ5hf2nIsEyJXVsPAr1DZAKRnls0isIApWJk_JZPYllxjecN7LmggiJNL1OqQPteRw2uKleW912Akwl9GlvNLHl7aa9SYTdeNdmoQLlpYRD0z_KqVRiti34xhtASVf9Iewkch0SjHrfs3ct5JV59aIz7jK5L3alOXBZ7Y80ZEnyINWFS7tKucruvQYQPfkQ2GYde93PK_cFOtQ705kLti9zjXf60sxglajJgTMlnuhUJUdzufa0KgX8vFzA5rmH7IlvI9ga9NulO96tq1feFJO_K476NSRF-EFZO_0Lt3aHHw4RSzUG4apsNi69_KFaSvxfRWe0Q5dVr3Cf9G-3yuaipR1b7Ll5QatuSH1JsN3LfVYKGFraxDMyHE-f2tCEfI8YHV7OCpu1KtrV3-0T39s_BmpTSQscWLyUqgaNk5fc-p-P1R24KdZvFZICJvUE5vVJ8wwx8w86iZPZBkl6zeohdnMDkXqUJqSgJNsxOO-anJ3URKpilRrY-btU8lV0aZrwYdFoJ4_gH-SqOqaBjl22iIX63RyACWKErPCqqdZ-pLwtHbCdaYqHNFLAsfTl4_QV9v94IgDNfwlltrzXyGAOR-uBqPrRTz5pMYOe1FJuTNbQY-15ObJHPwlVap_eYaMyBl-SsvX_5ROLQgh0yWcT-6PHHKPH5FenLW3xcoE2_OxM1bjq7WbWGaVKz8WQa0UWz-gQ8kgSzPxCysBwhjjH21y1LA-TC-4EugiLJoTDbbIJOZpNLqlHJkw4jNxnbtvpbodimJlgK1S4GoUD-nrS0vt8n7jmHBAqxDjt7NaOfGUbLS3eW6Tv5Aob73ED9fZ-nbC5wtUSkGAMAfONV8\",\"token_type\":\"Bearer\",\"expires_in\":3600,\"expiration\":1610783635,\"refresh_token_expiration\":1613372035,\"scope\":\"ibm openid\"}"
          ],
          "name": "stdout"
        }
      ]
    },
    {
      "cell_type": "code",
      "metadata": {
        "id": "aVrgNyb5oNOk",
        "colab": {
          "base_uri": "https://localhost:8080/",
          "height": 124
        },
        "outputId": "dc2c1e4a-223c-4f81-d171-d788af51eea8"
      },
      "source": [
        ""
      ],
      "execution_count": null,
      "outputs": [
        {
          "output_type": "execute_result",
          "data": {
            "application/vnd.google.colaboratory.intrinsic+json": {
              "type": "string"
            },
            "text/plain": [
              "'eyJraWQiOiIyMDIwMTIyMTE4MzQiLCJhbGciOiJSUzI1NiJ9.eyJpYW1faWQiOiJpYW0tU2VydmljZUlkLTViY2I3MjBhLTFlY2ItNGQ1Ny1hYzliLTNlZDdmZWI2NzEyYiIsImlkIjoiaWFtLVNlcnZpY2VJZC01YmNiNzIwYS0xZWNiLTRkNTctYWM5Yi0zZWQ3ZmViNjcxMmIiLCJyZWFsbWlkIjoiaWFtIiwianRpIjoiOWY0YTM2ZTAtYmM2MC00NTRiLTljMzEtNDczYmQ4NGI0MDRjIiwiaWRlbnRpZmllciI6IlNlcnZpY2VJZC01YmNiNzIwYS0xZWNiLTRkNTctYWM5Yi0zZWQ3ZmViNjcxMmIiLCJuYW1lIjoiQXV0by1nZW5lcmF0ZWQgc2VydmljZSBjcmVkZW50aWFscyIsInN1YiI6IlNlcnZpY2VJZC01YmNiNzIwYS0xZWNiLTRkNTctYWM5Yi0zZWQ3ZmViNjcxMmIiLCJzdWJfdHlwZSI6IlNlcnZpY2VJZCIsInVuaXF1ZV9pbnN0YW5jZV9jcm5zIjpbImNybjp2MTpibHVlbWl4OnB1YmxpYzpzcGVlY2gtdG8tdGV4dDp1cy1zb3V0aDphL2RhY2Q5ODk3NTU3MjQ3ZDVhYzgxZjdjZTViZTZkODZhOjNhNjc3YjJiLWMwMmQtNDRkMS1hNWJjLWQwZmZiYjVmYzBjYTo6Il0sImFjY291bnQiOnsidmFsaWQiOnRydWUsImJzcyI6ImRhY2Q5ODk3NTU3MjQ3ZDVhYzgxZjdjZTViZTZkODZhIiwiZnJvemVuIjp0cnVlfSwiaWF0IjoxNjEwNzc0NDc2LCJleHAiOjE2MTA3NzgwNzYsImlzcyI6Imh0dHBzOi8vaWFtLmNsb3VkLmlibS5jb20vaWRlbnRpdHkiLCJncmFudF90eXBlIjoidXJuOmlibTpwYXJhbXM6b2F1dGg6Z3JhbnQtdHlwZTphcGlrZXkiLCJzY29wZSI6ImlibSBvcGVuaWQiLCJjbGllbnRfaWQiOiJkZWZhdWx0IiwiYWNyIjoxLCJhbXIiOlsicHdkIl19.mjH1-xUimc_hM0YSjY7fYxJkaOXfSFG88Z6PxXpAecnAyB4SXqEnmwUVCJOjHKC0RGI1X01-V2QUuvdYCstU9Tb_wPdiVVRoKtrKRcX0ryet9GatlXiL2ztKsmvg9sYCD5MVPN9jaho78YBAOhaw4C0iEv5FS7AQ6SejiK_HhWeO14ZUlq3rKVrJtVVabl-FuxOAXN1XiSI8wKJvqOcqMm6SYB6HEvyO5GhkK2s9LT7vz_lW-SIyYuUX5IB9h0PyvQPuaezIb0X-7Z1xq771VlJ4rnKFwHxipOKZv9Nw_lbUO_5X5r9cW8C4e3bRRHbpt_tuhRUcTbaG8_KNsqxW7Q'"
            ]
          },
          "metadata": {
            "tags": []
          },
          "execution_count": 21
        }
      ]
    },
    {
      "cell_type": "code",
      "metadata": {
        "colab": {
          "base_uri": "https://localhost:8080/",
          "height": 132
        },
        "id": "8audU3MqpZp_",
        "outputId": "9cc9a746-30e7-4f34-c152-e93919528d19"
      },
      "source": [
        "var IAM_access_token = IAM_token;\r\n",
        "var wsURI = ws_url\r\n",
        "  + '?access_token=' + IAM_access_token\r\n",
        "  + '&model=en-US_BroadbandModel';\r\n",
        "var websocket = new WebSocket(wsURI);\r\n",
        "\r\n",
        "websocket.onopen = function(evt) { onOpen(evt) };\r\n",
        "websocket.onclose = function(evt) { onClose(evt) };\r\n",
        "websocket.onmessage = function(evt) { onMessage(evt) };\r\n",
        "websocket.onerror = function(evt) { onError(evt) };\r\n"
      ],
      "execution_count": null,
      "outputs": [
        {
          "output_type": "error",
          "ename": "SyntaxError",
          "evalue": "ignored",
          "traceback": [
            "\u001b[0;36m  File \u001b[0;32m\"<ipython-input-10-3041aa005bf5>\"\u001b[0;36m, line \u001b[0;32m1\u001b[0m\n\u001b[0;31m    var IAM_access_token = IAM_token;\u001b[0m\n\u001b[0m                       ^\u001b[0m\n\u001b[0;31mSyntaxError\u001b[0m\u001b[0;31m:\u001b[0m invalid syntax\n"
          ]
        }
      ]
    },
    {
      "cell_type": "code",
      "metadata": {
        "id": "vmcJsxq3vV4r"
      },
      "source": [
        "# to get authenticator token\r\n",
        "def transcriber_token(self):\r\n",
        "        resp = requests.post(\r\n",
        "            \"https://iam.cloud.ibm.com/identity/token\",\r\n",
        "            headers={\"Accept\": \"application/json\"},\r\n",
        "            params={\r\n",
        "                \"grant_type\": \"urn:ibm:params:oauth:grant-type:apikey\",\r\n",
        "                \"apikey\": apikey,\r\n",
        "            },\r\n",
        "        )\r\n",
        "        return resp.json()[\"access_token\"]"
      ],
      "execution_count": null,
      "outputs": []
    },
    {
      "cell_type": "code",
      "metadata": {
        "id": "vO_fO2SVuhND"
      },
      "source": [
        "def initialize(self, **kwargs):\r\n",
        "        self.transcriber = tornado.websocket.websocket_connect(\r\n",
        "            on_message_callback=self.on_transcriber_message,\r\n",
        "        )"
      ],
      "execution_count": null,
      "outputs": []
    },
    {
      "cell_type": "code",
      "metadata": {
        "id": "ahhJ_UAevHWb"
      },
      "source": [
        ""
      ],
      "execution_count": null,
      "outputs": []
    }
  ]
}